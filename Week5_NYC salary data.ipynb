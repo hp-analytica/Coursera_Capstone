{
 "cells": [
  {
   "cell_type": "markdown",
   "metadata": {},
   "source": [
    "# NYC Salary Notebook"
   ]
  },
  {
   "cell_type": "code",
   "execution_count": 1,
   "metadata": {},
   "outputs": [
    {
     "data": {
      "text/html": [
       "<style>.container { width:100% !important; }</style>"
      ],
      "text/plain": [
       "<IPython.core.display.HTML object>"
      ]
     },
     "metadata": {},
     "output_type": "display_data"
    }
   ],
   "source": [
    "from IPython.core.display import display, HTML\n",
    "display(HTML(\"<style>.container { width:100% !important; }</style>\"))"
   ]
  },
  {
   "cell_type": "markdown",
   "metadata": {},
   "source": [
    "Import modules for this project"
   ]
  },
  {
   "cell_type": "code",
   "execution_count": 2,
   "metadata": {},
   "outputs": [
    {
     "name": "stdout",
     "output_type": "stream",
     "text": [
      "Requirement already satisfied: geopy in c:\\users\\afrop\\anaconda3\\lib\\site-packages (1.22.0)\n",
      "Requirement already satisfied: geographiclib<2,>=1.49 in c:\\users\\afrop\\anaconda3\\lib\\site-packages (from geopy) (1.50)\n",
      "Note: you may need to restart the kernel to use updated packages.\n",
      "Requirement already satisfied: lxml in c:\\users\\afrop\\anaconda3\\lib\\site-packages (4.5.0)\n",
      "Note: you may need to restart the kernel to use updated packages.\n",
      "Requirement already satisfied: openpyxl in c:\\users\\afrop\\anaconda3\\lib\\site-packages (3.0.3)\n",
      "Requirement already satisfied: jdcal in c:\\users\\afrop\\anaconda3\\lib\\site-packages (from openpyxl) (1.4.1)\n",
      "Requirement already satisfied: et-xmlfile in c:\\users\\afrop\\anaconda3\\lib\\site-packages (from openpyxl) (1.0.1)\n",
      "Note: you may need to restart the kernel to use updated packages.\n",
      "done\n"
     ]
    }
   ],
   "source": [
    "#import primary modules\n",
    "%pip install geopy\n",
    "import numpy as np  # library to handle data in a vectorized manner\n",
    "import requests\n",
    "%pip install lxml\n",
    "import lxml.html as lh\n",
    "%pip install openpyxl\n",
    "print(\"done\")"
   ]
  },
  {
   "cell_type": "code",
   "execution_count": 3,
   "metadata": {},
   "outputs": [
    {
     "name": "stdout",
     "output_type": "stream",
     "text": [
      "Libraries imported.\n"
     ]
    },
    {
     "name": "stderr",
     "output_type": "stream",
     "text": [
      "usage: conda-script.py [-h] [-V] command ...\n",
      "conda-script.py: error: unrecognized arguments: # uncomment this line if you haven't completed the Foursquare API lab\n"
     ]
    }
   ],
   "source": [
    "import numpy as np # library to handle data in a vectorized manner\n",
    "\n",
    "import pandas as pd # library for data analsysis\n",
    "pd.set_option('display.max_columns', None)\n",
    "pd.set_option('display.max_rows', None)\n",
    "\n",
    "import json # library to handle JSON files\n",
    "\n",
    "#!conda install -c conda-forge geopy --yes # uncomment this line if you haven't completed the Foursquare API lab\n",
    "from geopy.geocoders import Nominatim # convert an address into latitude and longitude values\n",
    "\n",
    "import requests # library to handle requests\n",
    "from pandas.io.json import json_normalize # tranform JSON file into a pandas dataframe\n",
    "\n",
    "# Matplotlib and associated plotting modules\n",
    "import matplotlib.cm as cm\n",
    "import matplotlib.colors as colors\n",
    "\n",
    "# import k-means from clustering stage\n",
    "from sklearn.cluster import KMeans\n",
    "\n",
    "!conda install -c conda-forge folium=0.5.0 --yes # uncomment this line if you haven't completed the Foursquare API lab\n",
    "import folium # map rendering library\n",
    "\n",
    "print('Libraries imported.')"
   ]
  },
  {
   "cell_type": "markdown",
   "metadata": {},
   "source": [
    "# NYC Salary Data"
   ]
  },
  {
   "cell_type": "code",
   "execution_count": 4,
   "metadata": {},
   "outputs": [],
   "source": [
    "#Scrape Table Cells\n",
    "url = \"https://www.averagesalarysurvey.com/new-york-city-united-states\"\n",
    "\n",
    "#Create a handle, page, to handle the contents of the website\n",
    "page = requests.get(url)\n",
    "#Store the contents of the website under doc\n",
    "doc = lh.fromstring(page.content)\n",
    "#Parse data that are stored between <tr>..</tr> of HTML\n",
    "tr_elements = doc.xpath('//tr')"
   ]
  },
  {
   "cell_type": "code",
   "execution_count": 5,
   "metadata": {},
   "outputs": [
    {
     "data": {
      "text/plain": [
       "[2, 2, 2, 2, 2, 2, 2, 2, 2, 3, 3, 3, 3, 3, 3, 3, 3, 3, 3, 3]"
      ]
     },
     "execution_count": 5,
     "metadata": {},
     "output_type": "execute_result"
    }
   ],
   "source": [
    "#Check the length of the first 20 rows\n",
    "[len(T) for T in tr_elements[:20]]"
   ]
  },
  {
   "cell_type": "code",
   "execution_count": 6,
   "metadata": {},
   "outputs": [
    {
     "name": "stdout",
     "output_type": "stream",
     "text": [
      "1 \r\n",
      "                \r\n",
      "\r\n",
      "    \r\n",
      "        New York City Earnings \r\n",
      "    \r\n",
      "    \r\n",
      "        \r\n",
      "                \r\n",
      "                \r\n",
      "            \r\n",
      "                Average salary in New York City is\r\n",
      "                US$ 96,892.\r\n",
      "            \r\n",
      "            \r\n",
      "                Average take home earning is US$ 68,946 (Net).\r\n",
      "            \r\n",
      "            \r\n",
      "                The most typical salary is US$ 52,373 (Gross).\r\n",
      "            \r\n",
      "            \r\n",
      "                These data are from our visitors surveys\r\n",
      "                (1,139 individual salaries).\r\n",
      "            \r\n",
      "            \r\n",
      "            \r\n",
      "            \r\n",
      "            \r\n",
      "                \"What gets measured gets improved.\"\r\n",
      "                -Peter Drucker\r\n",
      "            \r\n",
      "        \r\n",
      "\r\n",
      "   Compare your salary with others »\r\n",
      "\r\n",
      "            \r\n",
      "            \r\n",
      "        \r\n",
      "            \r\n",
      "                \r\n",
      "                    Percentage of people\r\n",
      "                    Earn this salary or more\r\n",
      "                \r\n",
      "            \r\n",
      "            \r\n",
      "                \r\n",
      "                    7 %\r\n",
      "                    US$ 200,300\r\n",
      "                \r\n",
      "                \r\n",
      "                    10 %\r\n",
      "                    US$ 174,013\r\n",
      "                \r\n",
      "                \r\n",
      "                    23 %\r\n",
      "                    US$ 132,322\r\n",
      "                \r\n",
      "                \r\n",
      "                    55 %\r\n",
      "                    US$ 82,905\r\n",
      "                \r\n",
      "                \r\n",
      "                    84 %\r\n",
      "                    US$ 52,373\r\n",
      "                \r\n",
      "                \r\n",
      "                    92 %\r\n",
      "                    US$ 43,255\r\n",
      "                \r\n",
      "                \r\n",
      "                    96 %\r\n",
      "                    US$ 33,317\r\n",
      "                \r\n",
      "            \r\n",
      "        \r\n",
      "\r\n",
      "\r\n",
      "            \r\n",
      "                \r\n",
      "                    \r\n",
      "                        Career\r\n",
      "                        Avg. gross salary\r\n",
      "                        Salary entries\r\n",
      "                    \r\n",
      "                \r\n",
      "                \r\n",
      "                        \r\n",
      "                            Financial Analyst\r\n",
      "                            US$ 89,927\r\n",
      "                            30\r\n",
      "                        \r\n",
      "                        \r\n",
      "                            Manager\r\n",
      "                            US$ 135,526\r\n",
      "                            26\r\n",
      "                        \r\n",
      "                        \r\n",
      "                            IT Manager\r\n",
      "                            US$ 149,318\r\n",
      "                            22\r\n",
      "                        \r\n",
      "                        \r\n",
      "                            Software Developer\r\n",
      "                            US$ 93,904\r\n",
      "                            21\r\n",
      "                        \r\n",
      "                        \r\n",
      "                            Director\r\n",
      "                            US$ 173,052\r\n",
      "                            19\r\n",
      "                        \r\n",
      "                        \r\n",
      "                            Lawyer\r\n",
      "                            US$ 128,640\r\n",
      "                            19\r\n",
      "                        \r\n",
      "                        \r\n",
      "                            Human Resources Manager\r\n",
      "                            US$ 122,031\r\n",
      "                            19\r\n",
      "                        \r\n",
      "                        \r\n",
      "                            IT Project Manager\r\n",
      "                            US$ 122,562\r\n",
      "                            16\r\n",
      "                        \r\n",
      "                        \r\n",
      "                            Software Engineer\r\n",
      "                            US$ 101,593\r\n",
      "                            16\r\n",
      "                        \r\n",
      "                        \r\n",
      "                            Architect\r\n",
      "                            US$ 79,716\r\n",
      "                            16\r\n",
      "                        \r\n",
      "                \r\n",
      "            \r\n",
      "\r\n",
      "    \r\n",
      "\r\n",
      "\r\n",
      "\r\n",
      "\r\n",
      "    \r\n",
      "        Salary entries from individual employees for New York City\r\n",
      "    \r\n",
      "    \r\n",
      "        \r\n",
      "            \r\n",
      "                Below is the list of \r\n",
      "                \r\n",
      "                    100\r\n",
      "                \r\n",
      "                individual salary profiles - all added on this website.\r\n",
      "            \r\n",
      "        \r\n",
      "    \r\n",
      "\r\n",
      "\r\n",
      "\r\n",
      "            \n",
      "2 \r\n",
      "                \r\n",
      "\r\n",
      "        \r\n",
      "        \r\n",
      "        \r\n",
      "            (adsbygoogle = window.adsbygoogle || []).push({});\r\n",
      "        \r\n",
      "\r\n",
      "\r\n",
      "\r\n",
      "        \r\n",
      "        \r\n",
      "        \r\n",
      "            (adsbygoogle = window.adsbygoogle || []).push({});\r\n",
      "        \r\n",
      "\r\n",
      "\r\n",
      "\r\n",
      "    \r\n",
      "        Advertising\r\n",
      "    \r\n",
      "    \r\n",
      "        \r\n",
      "        \r\n",
      "        \r\n",
      "        \r\n",
      "            (adsbygoogle = window.adsbygoogle || []).push({});\r\n",
      "        \r\n",
      "    \r\n",
      "\r\n",
      "                \r\n",
      "            \n",
      "\r\n",
      "                \r\n",
      "\r\n",
      "        \r\n",
      "        \r\n",
      "        \r\n",
      "            (adsbygoogle = window.adsbygoogle || []).push({});\r\n",
      "        \r\n",
      "\r\n",
      "\r\n",
      "\r\n",
      "        \r\n",
      "        \r\n",
      "        \r\n",
      "            (adsbygoogle = window.adsbygoogle || []).push({});\r\n",
      "        \r\n",
      "\r\n",
      "\r\n",
      "\r\n",
      "    \r\n",
      "        Advertising\r\n",
      "    \r\n",
      "    \r\n",
      "        \r\n",
      "        \r\n",
      "        \r\n",
      "        \r\n",
      "            (adsbygoogle = window.adsbygoogle || []).push({});\r\n",
      "        \r\n",
      "    \r\n",
      "\r\n",
      "                \r\n",
      "            \n"
     ]
    }
   ],
   "source": [
    "#Parse first row as TABLE HEADER\n",
    "tr_elements = doc.xpath('//tr')\n",
    "\n",
    "#Create empty list\n",
    "col=[]\n",
    "i=0\n",
    "#For each row, store each first element (header) and an empty list\n",
    "for t in tr_elements[0]:\n",
    "    i+=1\n",
    "    name=t.text_content()\n",
    "    print ('%d %s' % (i,name))\n",
    "    col.append((name,[]))\n",
    "print(name)"
   ]
  },
  {
   "cell_type": "code",
   "execution_count": 7,
   "metadata": {},
   "outputs": [],
   "source": [
    "#CREATE A DATAFRAME\n",
    "#First row is the header .'. data is stored on the second row onwards\n",
    "for j in range(1,len(tr_elements)):\n",
    "    #T is our j'th row\n",
    "    T=tr_elements[j]\n",
    "    \n",
    "    #If row is not of size 3, the //tr data is not from our table \n",
    "    if len(T)!=2:\n",
    "        break\n",
    "    \n",
    "    #i is the index of our column\n",
    "    i=0\n",
    "    \n",
    "    #Iterate through each element of the row\n",
    "    for t in T.iterchildren():\n",
    "        data=t.text_content() \n",
    "        #Check if row is empty\n",
    "        if i>0:\n",
    "        #Convert any numerical value to integers\n",
    "            try:\n",
    "                data=int(data)\n",
    "            except:\n",
    "                pass\n",
    "        #Append the data to the empty list of the i'th column\n",
    "        col[i][1].append(data)\n",
    "        #Increment i for the next column\n",
    "        i+=1"
   ]
  },
  {
   "cell_type": "code",
   "execution_count": 8,
   "metadata": {},
   "outputs": [
    {
     "data": {
      "text/plain": [
       "[8, 8]"
      ]
     },
     "execution_count": 8,
     "metadata": {},
     "output_type": "execute_result"
    }
   ],
   "source": [
    "#CHECK length of each column\n",
    "[len(C) for (title,C) in col]"
   ]
  },
  {
   "cell_type": "code",
   "execution_count": 9,
   "metadata": {},
   "outputs": [],
   "source": [
    "Dict={title:column for (title,column) in col}\n",
    "df=pd.DataFrame(Dict)"
   ]
  },
  {
   "cell_type": "code",
   "execution_count": 10,
   "metadata": {},
   "outputs": [
    {
     "data": {
      "text/html": [
       "<div>\n",
       "<style scoped>\n",
       "    .dataframe tbody tr th:only-of-type {\n",
       "        vertical-align: middle;\n",
       "    }\n",
       "\n",
       "    .dataframe tbody tr th {\n",
       "        vertical-align: top;\n",
       "    }\n",
       "\n",
       "    .dataframe thead th {\n",
       "        text-align: right;\n",
       "    }\n",
       "</style>\n",
       "<table border=\"1\" class=\"dataframe\">\n",
       "  <thead>\n",
       "    <tr style=\"text-align: right;\">\n",
       "      <th></th>\n",
       "      <th>\\r\\n                \\r\\n\\r\\n    \\r\\n        New York City Earnings \\r\\n    \\r\\n    \\r\\n        \\r\\n                \\r\\n                \\r\\n            \\r\\n                Average salary in New York City is\\r\\n                US$ 96,892.\\r\\n            \\r\\n            \\r\\n                Average take home earning is US$ 68,946 (Net).\\r\\n            \\r\\n            \\r\\n                The most typical salary is US$ 52,373 (Gross).\\r\\n            \\r\\n            \\r\\n                These data are from our visitors surveys\\r\\n                (1,139 individual salaries).\\r\\n            \\r\\n            \\r\\n            \\r\\n            \\r\\n            \\r\\n                \"What gets measured gets improved.\"\\r\\n                -Peter Drucker\\r\\n            \\r\\n        \\r\\n\\r\\n   Compare your salary with others »\\r\\n\\r\\n            \\r\\n            \\r\\n        \\r\\n            \\r\\n                \\r\\n                    Percentage of people\\r\\n                    Earn this salary or more\\r\\n                \\r\\n            \\r\\n            \\r\\n                \\r\\n                    7 %\\r\\n                    US$ 200,300\\r\\n                \\r\\n                \\r\\n                    10 %\\r\\n                    US$ 174,013\\r\\n                \\r\\n                \\r\\n                    23 %\\r\\n                    US$ 132,322\\r\\n                \\r\\n                \\r\\n                    55 %\\r\\n                    US$ 82,905\\r\\n                \\r\\n                \\r\\n                    84 %\\r\\n                    US$ 52,373\\r\\n                \\r\\n                \\r\\n                    92 %\\r\\n                    US$ 43,255\\r\\n                \\r\\n                \\r\\n                    96 %\\r\\n                    US$ 33,317\\r\\n                \\r\\n            \\r\\n        \\r\\n\\r\\n\\r\\n            \\r\\n                \\r\\n                    \\r\\n                        Career\\r\\n                        Avg. gross salary\\r\\n                        Salary entries\\r\\n                    \\r\\n                \\r\\n                \\r\\n                        \\r\\n                            Financial Analyst\\r\\n                            US$ 89,927\\r\\n                            30\\r\\n                        \\r\\n                        \\r\\n                            Manager\\r\\n                            US$ 135,526\\r\\n                            26\\r\\n                        \\r\\n                        \\r\\n                            IT Manager\\r\\n                            US$ 149,318\\r\\n                            22\\r\\n                        \\r\\n                        \\r\\n                            Software Developer\\r\\n                            US$ 93,904\\r\\n                            21\\r\\n                        \\r\\n                        \\r\\n                            Director\\r\\n                            US$ 173,052\\r\\n                            19\\r\\n                        \\r\\n                        \\r\\n                            Lawyer\\r\\n                            US$ 128,640\\r\\n                            19\\r\\n                        \\r\\n                        \\r\\n                            Human Resources Manager\\r\\n                            US$ 122,031\\r\\n                            19\\r\\n                        \\r\\n                        \\r\\n                            IT Project Manager\\r\\n                            US$ 122,562\\r\\n                            16\\r\\n                        \\r\\n                        \\r\\n                            Software Engineer\\r\\n                            US$ 101,593\\r\\n                            16\\r\\n                        \\r\\n                        \\r\\n                            Architect\\r\\n                            US$ 79,716\\r\\n                            16\\r\\n                        \\r\\n                \\r\\n            \\r\\n\\r\\n    \\r\\n\\r\\n\\r\\n\\r\\n\\r\\n    \\r\\n        Salary entries from individual employees for New York City\\r\\n    \\r\\n    \\r\\n        \\r\\n            \\r\\n                Below is the list of \\r\\n                \\r\\n                    100\\r\\n                \\r\\n                individual salary profiles - all added on this website.\\r\\n            \\r\\n        \\r\\n    \\r\\n\\r\\n\\r\\n\\r\\n</th>\n",
       "      <th>\\r\\n                \\r\\n\\r\\n        \\r\\n        \\r\\n        \\r\\n            (adsbygoogle = window.adsbygoogle || []).push({});\\r\\n        \\r\\n\\r\\n\\r\\n\\r\\n        \\r\\n        \\r\\n        \\r\\n            (adsbygoogle = window.adsbygoogle || []).push({});\\r\\n        \\r\\n\\r\\n\\r\\n\\r\\n    \\r\\n        Advertising\\r\\n    \\r\\n    \\r\\n        \\r\\n        \\r\\n        \\r\\n        \\r\\n            (adsbygoogle = window.adsbygoogle || []).push({});\\r\\n        \\r\\n    \\r\\n\\r\\n                \\r\\n</th>\n",
       "    </tr>\n",
       "  </thead>\n",
       "  <tbody>\n",
       "    <tr>\n",
       "      <th>0</th>\n",
       "      <td>Percentage of people</td>\n",
       "      <td>Earn this salary or more</td>\n",
       "    </tr>\n",
       "    <tr>\n",
       "      <th>1</th>\n",
       "      <td>7 %</td>\n",
       "      <td>US$ 200,300</td>\n",
       "    </tr>\n",
       "    <tr>\n",
       "      <th>2</th>\n",
       "      <td>10 %</td>\n",
       "      <td>US$ 174,013</td>\n",
       "    </tr>\n",
       "    <tr>\n",
       "      <th>3</th>\n",
       "      <td>23 %</td>\n",
       "      <td>US$ 132,322</td>\n",
       "    </tr>\n",
       "    <tr>\n",
       "      <th>4</th>\n",
       "      <td>55 %</td>\n",
       "      <td>US$ 82,905</td>\n",
       "    </tr>\n",
       "  </tbody>\n",
       "</table>\n",
       "</div>"
      ],
      "text/plain": [
       "  \\r\\n                \\r\\n\\r\\n    \\r\\n        New York City Earnings \\r\\n    \\r\\n    \\r\\n        \\r\\n                \\r\\n                \\r\\n            \\r\\n                Average salary in New York City is\\r\\n                US$ 96,892.\\r\\n            \\r\\n            \\r\\n                Average take home earning is US$ 68,946 (Net).\\r\\n            \\r\\n            \\r\\n                The most typical salary is US$ 52,373 (Gross).\\r\\n            \\r\\n            \\r\\n                These data are from our visitors surveys\\r\\n                (1,139 individual salaries).\\r\\n            \\r\\n            \\r\\n            \\r\\n            \\r\\n            \\r\\n                \"What gets measured gets improved.\"\\r\\n                -Peter Drucker\\r\\n            \\r\\n        \\r\\n\\r\\n   Compare your salary with others »\\r\\n\\r\\n            \\r\\n            \\r\\n        \\r\\n            \\r\\n                \\r\\n                    Percentage of people\\r\\n                    Earn this salary or more\\r\\n                \\r\\n            \\r\\n            \\r\\n                \\r\\n                    7 %\\r\\n                    US$ 200,300\\r\\n                \\r\\n                \\r\\n                    10 %\\r\\n                    US$ 174,013\\r\\n                \\r\\n                \\r\\n                    23 %\\r\\n                    US$ 132,322\\r\\n                \\r\\n                \\r\\n                    55 %\\r\\n                    US$ 82,905\\r\\n                \\r\\n                \\r\\n                    84 %\\r\\n                    US$ 52,373\\r\\n                \\r\\n                \\r\\n                    92 %\\r\\n                    US$ 43,255\\r\\n                \\r\\n                \\r\\n                    96 %\\r\\n                    US$ 33,317\\r\\n                \\r\\n            \\r\\n        \\r\\n\\r\\n\\r\\n            \\r\\n                \\r\\n                    \\r\\n                        Career\\r\\n                        Avg. gross salary\\r\\n                        Salary entries\\r\\n                    \\r\\n                \\r\\n                \\r\\n                        \\r\\n                            Financial Analyst\\r\\n                            US$ 89,927\\r\\n                            30\\r\\n                        \\r\\n                        \\r\\n                            Manager\\r\\n                            US$ 135,526\\r\\n                            26\\r\\n                        \\r\\n                        \\r\\n                            IT Manager\\r\\n                            US$ 149,318\\r\\n                            22\\r\\n                        \\r\\n                        \\r\\n                            Software Developer\\r\\n                            US$ 93,904\\r\\n                            21\\r\\n                        \\r\\n                        \\r\\n                            Director\\r\\n                            US$ 173,052\\r\\n                            19\\r\\n                        \\r\\n                        \\r\\n                            Lawyer\\r\\n                            US$ 128,640\\r\\n                            19\\r\\n                        \\r\\n                        \\r\\n                            Human Resources Manager\\r\\n                            US$ 122,031\\r\\n                            19\\r\\n                        \\r\\n                        \\r\\n                            IT Project Manager\\r\\n                            US$ 122,562\\r\\n                            16\\r\\n                        \\r\\n                        \\r\\n                            Software Engineer\\r\\n                            US$ 101,593\\r\\n                            16\\r\\n                        \\r\\n                        \\r\\n                            Architect\\r\\n                            US$ 79,716\\r\\n                            16\\r\\n                        \\r\\n                \\r\\n            \\r\\n\\r\\n    \\r\\n\\r\\n\\r\\n\\r\\n\\r\\n    \\r\\n        Salary entries from individual employees for New York City\\r\\n    \\r\\n    \\r\\n        \\r\\n            \\r\\n                Below is the list of \\r\\n                \\r\\n                    100\\r\\n                \\r\\n                individual salary profiles - all added on this website.\\r\\n            \\r\\n        \\r\\n    \\r\\n\\r\\n\\r\\n\\r\\n              \\\n",
       "0                               Percentage of people                                                                                                                                                                                                                                                                                                                                                                                                                                                                                                                                                                                                                                                                                                                                                                                                                                                                                                                                                                                                                                                                                                                                                                                                                                                                                                                                                                                                                                                                                                                                                                                                                                                                                                                                                                                                                                                                                                                                                                                                                                                                                                                                                                                                                                                                                                                                                                                                                                                                                                                                                                                                                                                                                                                                                                                                                                                                                                                                                                                                                                                                                                                                                                                                                                                                                                                                                                                                                                                                                                                                                                                                                                                                                                                                                                                                                                                                                                                                                                                                                                                                                                                                                                                                                                                                                                                                                                            \n",
       "1                                                7 %                                                                                                                                                                                                                                                                                                                                                                                                                                                                                                                                                                                                                                                                                                                                                                                                                                                                                                                                                                                                                                                                                                                                                                                                                                                                                                                                                                                                                                                                                                                                                                                                                                                                                                                                                                                                                                                                                                                                                                                                                                                                                                                                                                                                                                                                                                                                                                                                                                                                                                                                                                                                                                                                                                                                                                                                                                                                                                                                                                                                                                                                                                                                                                                                                                                                                                                                                                                                                                                                                                                                                                                                                                                                                                                                                                                                                                                                                                                                                                                                                                                                                                                                                                                                                                                                                                                                                                            \n",
       "2                                               10 %                                                                                                                                                                                                                                                                                                                                                                                                                                                                                                                                                                                                                                                                                                                                                                                                                                                                                                                                                                                                                                                                                                                                                                                                                                                                                                                                                                                                                                                                                                                                                                                                                                                                                                                                                                                                                                                                                                                                                                                                                                                                                                                                                                                                                                                                                                                                                                                                                                                                                                                                                                                                                                                                                                                                                                                                                                                                                                                                                                                                                                                                                                                                                                                                                                                                                                                                                                                                                                                                                                                                                                                                                                                                                                                                                                                                                                                                                                                                                                                                                                                                                                                                                                                                                                                                                                                                                                            \n",
       "3                                               23 %                                                                                                                                                                                                                                                                                                                                                                                                                                                                                                                                                                                                                                                                                                                                                                                                                                                                                                                                                                                                                                                                                                                                                                                                                                                                                                                                                                                                                                                                                                                                                                                                                                                                                                                                                                                                                                                                                                                                                                                                                                                                                                                                                                                                                                                                                                                                                                                                                                                                                                                                                                                                                                                                                                                                                                                                                                                                                                                                                                                                                                                                                                                                                                                                                                                                                                                                                                                                                                                                                                                                                                                                                                                                                                                                                                                                                                                                                                                                                                                                                                                                                                                                                                                                                                                                                                                                                                            \n",
       "4                                               55 %                                                                                                                                                                                                                                                                                                                                                                                                                                                                                                                                                                                                                                                                                                                                                                                                                                                                                                                                                                                                                                                                                                                                                                                                                                                                                                                                                                                                                                                                                                                                                                                                                                                                                                                                                                                                                                                                                                                                                                                                                                                                                                                                                                                                                                                                                                                                                                                                                                                                                                                                                                                                                                                                                                                                                                                                                                                                                                                                                                                                                                                                                                                                                                                                                                                                                                                                                                                                                                                                                                                                                                                                                                                                                                                                                                                                                                                                                                                                                                                                                                                                                                                                                                                                                                                                                                                                                                            \n",
       "\n",
       "  \\r\\n                \\r\\n\\r\\n        \\r\\n        \\r\\n        \\r\\n            (adsbygoogle = window.adsbygoogle || []).push({});\\r\\n        \\r\\n\\r\\n\\r\\n\\r\\n        \\r\\n        \\r\\n        \\r\\n            (adsbygoogle = window.adsbygoogle || []).push({});\\r\\n        \\r\\n\\r\\n\\r\\n\\r\\n    \\r\\n        Advertising\\r\\n    \\r\\n    \\r\\n        \\r\\n        \\r\\n        \\r\\n        \\r\\n            (adsbygoogle = window.adsbygoogle || []).push({});\\r\\n        \\r\\n    \\r\\n\\r\\n                \\r\\n              \n",
       "0                           Earn this salary or more                                                                                                                                                                                                                                                                                                                                                                                                                                                                 \n",
       "1                                        US$ 200,300                                                                                                                                                                                                                                                                                                                                                                                                                                                                 \n",
       "2                                        US$ 174,013                                                                                                                                                                                                                                                                                                                                                                                                                                                                 \n",
       "3                                        US$ 132,322                                                                                                                                                                                                                                                                                                                                                                                                                                                                 \n",
       "4                                         US$ 82,905                                                                                                                                                                                                                                                                                                                                                                                                                                                                 "
      ]
     },
     "execution_count": 10,
     "metadata": {},
     "output_type": "execute_result"
    }
   ],
   "source": [
    "df.head()\n",
    "#df.shape"
   ]
  },
  {
   "cell_type": "code",
   "execution_count": 11,
   "metadata": {},
   "outputs": [
    {
     "data": {
      "text/plain": [
       "Index(['\\r\\n                \\r\\n\\r\\n    \\r\\n        New York City Earnings \\r\\n    \\r\\n    \\r\\n        \\r\\n                \\r\\n                \\r\\n            \\r\\n                Average salary in New York City is\\r\\n                US$ 96,892.\\r\\n            \\r\\n            \\r\\n                Average take home earning is US$ 68,946 (Net).\\r\\n            \\r\\n            \\r\\n                The most typical salary is US$ 52,373 (Gross).\\r\\n            \\r\\n            \\r\\n                These data are from our visitors surveys\\r\\n                (1,139 individual salaries).\\r\\n            \\r\\n            \\r\\n            \\r\\n            \\r\\n            \\r\\n                \"What gets measured gets improved.\"\\r\\n                -Peter Drucker\\r\\n            \\r\\n        \\r\\n\\r\\n   Compare your salary with others »\\r\\n\\r\\n            \\r\\n            \\r\\n        \\r\\n            \\r\\n                \\r\\n                    Percentage of people\\r\\n                    Earn this salary or more\\r\\n                \\r\\n            \\r\\n            \\r\\n                \\r\\n                    7 %\\r\\n                    US$ 200,300\\r\\n                \\r\\n                \\r\\n                    10 %\\r\\n                    US$ 174,013\\r\\n                \\r\\n                \\r\\n                    23 %\\r\\n                    US$ 132,322\\r\\n                \\r\\n                \\r\\n                    55 %\\r\\n                    US$ 82,905\\r\\n                \\r\\n                \\r\\n                    84 %\\r\\n                    US$ 52,373\\r\\n                \\r\\n                \\r\\n                    92 %\\r\\n                    US$ 43,255\\r\\n                \\r\\n                \\r\\n                    96 %\\r\\n                    US$ 33,317\\r\\n                \\r\\n            \\r\\n        \\r\\n\\r\\n\\r\\n            \\r\\n                \\r\\n                    \\r\\n                        Career\\r\\n                        Avg. gross salary\\r\\n                        Salary entries\\r\\n                    \\r\\n                \\r\\n                \\r\\n                        \\r\\n                            Financial Analyst\\r\\n                            US$ 89,927\\r\\n                            30\\r\\n                        \\r\\n                        \\r\\n                            Manager\\r\\n                            US$ 135,526\\r\\n                            26\\r\\n                        \\r\\n                        \\r\\n                            IT Manager\\r\\n                            US$ 149,318\\r\\n                            22\\r\\n                        \\r\\n                        \\r\\n                            Software Developer\\r\\n                            US$ 93,904\\r\\n                            21\\r\\n                        \\r\\n                        \\r\\n                            Director\\r\\n                            US$ 173,052\\r\\n                            19\\r\\n                        \\r\\n                        \\r\\n                            Lawyer\\r\\n                            US$ 128,640\\r\\n                            19\\r\\n                        \\r\\n                        \\r\\n                            Human Resources Manager\\r\\n                            US$ 122,031\\r\\n                            19\\r\\n                        \\r\\n                        \\r\\n                            IT Project Manager\\r\\n                            US$ 122,562\\r\\n                            16\\r\\n                        \\r\\n                        \\r\\n                            Software Engineer\\r\\n                            US$ 101,593\\r\\n                            16\\r\\n                        \\r\\n                        \\r\\n                            Architect\\r\\n                            US$ 79,716\\r\\n                            16\\r\\n                        \\r\\n                \\r\\n            \\r\\n\\r\\n    \\r\\n\\r\\n\\r\\n\\r\\n\\r\\n    \\r\\n        Salary entries from individual employees for New York City\\r\\n    \\r\\n    \\r\\n        \\r\\n            \\r\\n                Below is the list of \\r\\n                \\r\\n                    100\\r\\n                \\r\\n                individual salary profiles - all added on this website.\\r\\n            \\r\\n        \\r\\n    \\r\\n\\r\\n\\r\\n\\r\\n            ', '\\r\\n                \\r\\n\\r\\n        \\r\\n        \\r\\n        \\r\\n            (adsbygoogle = window.adsbygoogle || []).push({});\\r\\n        \\r\\n\\r\\n\\r\\n\\r\\n        \\r\\n        \\r\\n        \\r\\n            (adsbygoogle = window.adsbygoogle || []).push({});\\r\\n        \\r\\n\\r\\n\\r\\n\\r\\n    \\r\\n        Advertising\\r\\n    \\r\\n    \\r\\n        \\r\\n        \\r\\n        \\r\\n        \\r\\n            (adsbygoogle = window.adsbygoogle || []).push({});\\r\\n        \\r\\n    \\r\\n\\r\\n                \\r\\n            '], dtype='object')"
      ]
     },
     "execution_count": 11,
     "metadata": {},
     "output_type": "execute_result"
    }
   ],
   "source": [
    "df.columns"
   ]
  },
  {
   "cell_type": "code",
   "execution_count": 12,
   "metadata": {},
   "outputs": [
    {
     "data": {
      "text/html": [
       "<div>\n",
       "<style scoped>\n",
       "    .dataframe tbody tr th:only-of-type {\n",
       "        vertical-align: middle;\n",
       "    }\n",
       "\n",
       "    .dataframe tbody tr th {\n",
       "        vertical-align: top;\n",
       "    }\n",
       "\n",
       "    .dataframe thead th {\n",
       "        text-align: right;\n",
       "    }\n",
       "</style>\n",
       "<table border=\"1\" class=\"dataframe\">\n",
       "  <thead>\n",
       "    <tr style=\"text-align: right;\">\n",
       "      <th></th>\n",
       "      <th>Percentage of people</th>\n",
       "      <th>Earn this salary or more</th>\n",
       "    </tr>\n",
       "  </thead>\n",
       "  <tbody>\n",
       "    <tr>\n",
       "      <th>1</th>\n",
       "      <td>7 %</td>\n",
       "      <td>US$ 200,300</td>\n",
       "    </tr>\n",
       "    <tr>\n",
       "      <th>2</th>\n",
       "      <td>10 %</td>\n",
       "      <td>US$ 174,013</td>\n",
       "    </tr>\n",
       "    <tr>\n",
       "      <th>3</th>\n",
       "      <td>23 %</td>\n",
       "      <td>US$ 132,322</td>\n",
       "    </tr>\n",
       "    <tr>\n",
       "      <th>4</th>\n",
       "      <td>55 %</td>\n",
       "      <td>US$ 82,905</td>\n",
       "    </tr>\n",
       "    <tr>\n",
       "      <th>5</th>\n",
       "      <td>84 %</td>\n",
       "      <td>US$ 52,373</td>\n",
       "    </tr>\n",
       "  </tbody>\n",
       "</table>\n",
       "</div>"
      ],
      "text/plain": [
       "0 Percentage of people Earn this salary or more\n",
       "1                  7 %              US$ 200,300\n",
       "2                 10 %              US$ 174,013\n",
       "3                 23 %              US$ 132,322\n",
       "4                 55 %               US$ 82,905\n",
       "5                 84 %               US$ 52,373"
      ]
     },
     "execution_count": 12,
     "metadata": {},
     "output_type": "execute_result"
    }
   ],
   "source": [
    "#remove the garbage first row\n",
    "new_header = df.iloc[0] \n",
    "\n",
    "df = df[1:] \n",
    "\n",
    "df.columns = new_header\n",
    "\n",
    "df.head()"
   ]
  },
  {
   "cell_type": "code",
   "execution_count": 13,
   "metadata": {},
   "outputs": [
    {
     "data": {
      "text/html": [
       "<div>\n",
       "<style scoped>\n",
       "    .dataframe tbody tr th:only-of-type {\n",
       "        vertical-align: middle;\n",
       "    }\n",
       "\n",
       "    .dataframe tbody tr th {\n",
       "        vertical-align: top;\n",
       "    }\n",
       "\n",
       "    .dataframe thead th {\n",
       "        text-align: right;\n",
       "    }\n",
       "</style>\n",
       "<table border=\"1\" class=\"dataframe\">\n",
       "  <thead>\n",
       "    <tr style=\"text-align: right;\">\n",
       "      <th></th>\n",
       "      <th>Percentage of people</th>\n",
       "      <th>Earn this salary or more</th>\n",
       "    </tr>\n",
       "  </thead>\n",
       "  <tbody>\n",
       "    <tr>\n",
       "      <th>1</th>\n",
       "      <td>7</td>\n",
       "      <td>200300</td>\n",
       "    </tr>\n",
       "    <tr>\n",
       "      <th>2</th>\n",
       "      <td>10</td>\n",
       "      <td>174013</td>\n",
       "    </tr>\n",
       "    <tr>\n",
       "      <th>3</th>\n",
       "      <td>23</td>\n",
       "      <td>132322</td>\n",
       "    </tr>\n",
       "    <tr>\n",
       "      <th>4</th>\n",
       "      <td>55</td>\n",
       "      <td>82905</td>\n",
       "    </tr>\n",
       "    <tr>\n",
       "      <th>5</th>\n",
       "      <td>84</td>\n",
       "      <td>52373</td>\n",
       "    </tr>\n",
       "    <tr>\n",
       "      <th>6</th>\n",
       "      <td>92</td>\n",
       "      <td>43255</td>\n",
       "    </tr>\n",
       "    <tr>\n",
       "      <th>7</th>\n",
       "      <td>96</td>\n",
       "      <td>33317</td>\n",
       "    </tr>\n",
       "  </tbody>\n",
       "</table>\n",
       "</div>"
      ],
      "text/plain": [
       "0 Percentage of people Earn this salary or more\n",
       "1                   7                    200300\n",
       "2                  10                    174013\n",
       "3                  23                    132322\n",
       "4                  55                     82905\n",
       "5                  84                     52373\n",
       "6                  92                     43255\n",
       "7                  96                     33317"
      ]
     },
     "execution_count": 13,
     "metadata": {},
     "output_type": "execute_result"
    }
   ],
   "source": [
    "#string surgery, convert those strings to numbers removing $ and , and CA\n",
    "df['Percentage of people'] = df['Percentage of people'].replace({'\\$':''}, regex = True)\n",
    "df['Percentage of people'] = df['Percentage of people'].replace({',': ''},regex = True)  # assuming ',' is the thousand's separator in your locale\n",
    "df['Percentage of people'] = df['Percentage of people'].replace({'%': ''},regex = True)\n",
    "\n",
    "df['Earn this salary or more'] = df['Earn this salary or more'].replace({'\\$':''}, regex = True)\n",
    "df['Earn this salary or more'] = df['Earn this salary or more'].replace({',': ''},regex = True)  # assuming ',' is the thousand's separator in your locale\n",
    "df['Earn this salary or more'] = df['Earn this salary or more'].replace({'%': ''},regex = True)\n",
    "df['Earn this salary or more'] = df['Earn this salary or more'].replace({'US':''}, regex = True)\n",
    "df"
   ]
  },
  {
   "cell_type": "code",
   "execution_count": 14,
   "metadata": {},
   "outputs": [
    {
     "data": {
      "text/html": [
       "<div>\n",
       "<style scoped>\n",
       "    .dataframe tbody tr th:only-of-type {\n",
       "        vertical-align: middle;\n",
       "    }\n",
       "\n",
       "    .dataframe tbody tr th {\n",
       "        vertical-align: top;\n",
       "    }\n",
       "\n",
       "    .dataframe thead th {\n",
       "        text-align: right;\n",
       "    }\n",
       "</style>\n",
       "<table border=\"1\" class=\"dataframe\">\n",
       "  <thead>\n",
       "    <tr style=\"text-align: right;\">\n",
       "      <th></th>\n",
       "      <th>Percentage of people</th>\n",
       "      <th>Earn this salary or more</th>\n",
       "    </tr>\n",
       "  </thead>\n",
       "  <tbody>\n",
       "    <tr>\n",
       "      <th>1</th>\n",
       "      <td>7.0</td>\n",
       "      <td>200300.0</td>\n",
       "    </tr>\n",
       "    <tr>\n",
       "      <th>2</th>\n",
       "      <td>10.0</td>\n",
       "      <td>174013.0</td>\n",
       "    </tr>\n",
       "    <tr>\n",
       "      <th>3</th>\n",
       "      <td>23.0</td>\n",
       "      <td>132322.0</td>\n",
       "    </tr>\n",
       "    <tr>\n",
       "      <th>4</th>\n",
       "      <td>55.0</td>\n",
       "      <td>82905.0</td>\n",
       "    </tr>\n",
       "    <tr>\n",
       "      <th>5</th>\n",
       "      <td>84.0</td>\n",
       "      <td>52373.0</td>\n",
       "    </tr>\n",
       "    <tr>\n",
       "      <th>6</th>\n",
       "      <td>92.0</td>\n",
       "      <td>43255.0</td>\n",
       "    </tr>\n",
       "    <tr>\n",
       "      <th>7</th>\n",
       "      <td>96.0</td>\n",
       "      <td>33317.0</td>\n",
       "    </tr>\n",
       "  </tbody>\n",
       "</table>\n",
       "</div>"
      ],
      "text/plain": [
       "0  Percentage of people  Earn this salary or more\n",
       "1                   7.0                  200300.0\n",
       "2                  10.0                  174013.0\n",
       "3                  23.0                  132322.0\n",
       "4                  55.0                   82905.0\n",
       "5                  84.0                   52373.0\n",
       "6                  92.0                   43255.0\n",
       "7                  96.0                   33317.0"
      ]
     },
     "execution_count": 14,
     "metadata": {},
     "output_type": "execute_result"
    }
   ],
   "source": [
    "df2 = df\n",
    "df2['Percentage of people'] = df['Percentage of people'].astype(float)\n",
    "df2['Earn this salary or more'] = df['Earn this salary or more'].astype(float)\n",
    "df2"
   ]
  },
  {
   "cell_type": "code",
   "execution_count": 15,
   "metadata": {},
   "outputs": [],
   "source": [
    "df2.set_index(\"Percentage of people\", inplace = True) "
   ]
  },
  {
   "cell_type": "code",
   "execution_count": 16,
   "metadata": {},
   "outputs": [
    {
     "data": {
      "text/html": [
       "<div>\n",
       "<style scoped>\n",
       "    .dataframe tbody tr th:only-of-type {\n",
       "        vertical-align: middle;\n",
       "    }\n",
       "\n",
       "    .dataframe tbody tr th {\n",
       "        vertical-align: top;\n",
       "    }\n",
       "\n",
       "    .dataframe thead th {\n",
       "        text-align: right;\n",
       "    }\n",
       "</style>\n",
       "<table border=\"1\" class=\"dataframe\">\n",
       "  <thead>\n",
       "    <tr style=\"text-align: right;\">\n",
       "      <th></th>\n",
       "      <th>Earn this salary or more</th>\n",
       "    </tr>\n",
       "    <tr>\n",
       "      <th>Percentage of people</th>\n",
       "      <th></th>\n",
       "    </tr>\n",
       "  </thead>\n",
       "  <tbody>\n",
       "    <tr>\n",
       "      <th>7.0</th>\n",
       "      <td>200300.0</td>\n",
       "    </tr>\n",
       "    <tr>\n",
       "      <th>10.0</th>\n",
       "      <td>174013.0</td>\n",
       "    </tr>\n",
       "    <tr>\n",
       "      <th>23.0</th>\n",
       "      <td>132322.0</td>\n",
       "    </tr>\n",
       "    <tr>\n",
       "      <th>55.0</th>\n",
       "      <td>82905.0</td>\n",
       "    </tr>\n",
       "    <tr>\n",
       "      <th>84.0</th>\n",
       "      <td>52373.0</td>\n",
       "    </tr>\n",
       "    <tr>\n",
       "      <th>92.0</th>\n",
       "      <td>43255.0</td>\n",
       "    </tr>\n",
       "    <tr>\n",
       "      <th>96.0</th>\n",
       "      <td>33317.0</td>\n",
       "    </tr>\n",
       "  </tbody>\n",
       "</table>\n",
       "</div>"
      ],
      "text/plain": [
       "0                     Earn this salary or more\n",
       "Percentage of people                          \n",
       "7.0                                   200300.0\n",
       "10.0                                  174013.0\n",
       "23.0                                  132322.0\n",
       "55.0                                   82905.0\n",
       "84.0                                   52373.0\n",
       "92.0                                   43255.0\n",
       "96.0                                   33317.0"
      ]
     },
     "execution_count": 16,
     "metadata": {},
     "output_type": "execute_result"
    }
   ],
   "source": [
    "df2"
   ]
  },
  {
   "cell_type": "code",
   "execution_count": 17,
   "metadata": {},
   "outputs": [],
   "source": [
    "### type your answer here\n",
    "%matplotlib inline \n",
    "\n",
    "import matplotlib as mpl\n",
    "import matplotlib.pyplot as plt\n",
    "\n",
    "mpl.style.use('ggplot')"
   ]
  },
  {
   "cell_type": "code",
   "execution_count": 19,
   "metadata": {},
   "outputs": [
    {
     "data": {
      "image/png": "[encoded data removed]",
      "text/plain": [
       "<Figure size 576x288 with 1 Axes>"
      ]
     },
     "metadata": {},
     "output_type": "display_data"
    },
    {
     "data": {
      "text/plain": [
       "<Figure size 432x288 with 0 Axes>"
      ]
     },
     "metadata": {},
     "output_type": "display_data"
    }
   ],
   "source": [
    "import numpy as np\n",
    "import matplotlib.pyplot as plt\n",
    "\n",
    "\n",
    "colors_list = ['orange']\n",
    "\n",
    "#artist formula for bar chart using df2 dataframe\n",
    "ax = df.plot(kind='barh', alpha=1, figsize=(8, 4), width=0.3,color = colors_list )\n",
    "ax.xaxis.set_visible(True)\n",
    "ax.yaxis.set_visible(True)\n",
    "\n",
    "font = {'family' : 'calibri',\n",
    "        'weight' : 'normal',\n",
    "        'size'   : 12}\n",
    "\n",
    "plt.rc('font', **font)\n",
    "\n",
    "plt.legend(fontsize=10)\n",
    "\n",
    "ax.patch.set_facecolor('white')\n",
    "plt.legend(facecolor='white', framealpha=0.5)\n",
    "#plt.text(v, i, \" \"+str(v), color='blue', va='center', fontweight='bold')\n",
    "\n",
    "ax.spines['left'].set_color('black')\n",
    "\n",
    "plt.show()\n",
    "###########################################\n",
    "plt.savefig('salary.png')"
   ]
  },
  {
   "cell_type": "markdown",
   "metadata": {},
   "source": [
    "The end :)"
   ]
  }
 ],
 "metadata": {
  "kernelspec": {
   "display_name": "Python 3",
   "language": "python",
   "name": "python3"
  },
  "language_info": {
   "codemirror_mode": {
    "name": "ipython",
    "version": 3
   },
   "file_extension": ".py",
   "mimetype": "text/x-python",
   "name": "python",
   "nbconvert_exporter": "python",
   "pygments_lexer": "ipython3",
   "version": "3.7.6"
  }
 },
 "nbformat": 4,
 "nbformat_minor": 4
}
